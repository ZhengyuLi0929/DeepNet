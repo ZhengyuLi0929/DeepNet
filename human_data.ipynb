{
 "cells": [
  {
   "cell_type": "code",
   "execution_count": 47,
   "metadata": {},
   "outputs": [],
   "source": [
    "import numpy as np\n",
    "import pandas as pd\n",
    "import csv\n",
    "import json\n",
    "import os"
   ]
  },
  {
   "cell_type": "code",
   "execution_count": 46,
   "metadata": {},
   "outputs": [],
   "source": [
    "json_fp = open(\"good_bad_responses/gbmatch_20100208_160256.json\", \"r\",encoding='utf-8')\n",
    "csv_fp = open(\"word.csv\", \"w\",encoding='utf-8',newline='')\n",
    "\n",
    "writer = csv.writer(csv_fp)\n",
    "data_list = json.load(json_fp)\n",
    "keys = ['scramble', 'target', 'response', 'image_category', 'image_name', 'image_invert', 'image_list']\n",
    "writer.writerow(keys)\n",
    "rval= []\n",
    "for i in range(len(data_list['testBlocks'])):\n",
    "    for j in range(len(data_list['testBlocks'][0])):\n",
    "        data = []\n",
    "        data.append(data_list['testBlocks'][i][j]['scramble'][0])\n",
    "        data.append(data_list['testBlocks'][i][j]['target'])\n",
    "        if data_list['testBlocks'][i][j]['responses'] == []:\n",
    "            data.append('N/A')\n",
    "        else:\n",
    "            data.append(data_list['testBlocks'][i][j]['responses'][0])\n",
    "        data.append(data_list['testBlocks'][i][j]['images'][0]['Category'])\n",
    "        data.append(data_list['testBlocks'][i][j]['images'][0]['ImageName'])\n",
    "        data.append(data_list['testBlocks'][i][j]['images'][0]['invert'])\n",
    "        data.append(data_list['testBlocks'][i][j]['images'][0]['List'])\n",
    "        rval.append(data)\n",
    "writer.writerows(rval)\n",
    "json_fp.close()\n",
    "csv_fp.close()\n",
    "        \n",
    "\n"
   ]
  },
  {
   "cell_type": "code",
   "execution_count": 42,
   "metadata": {},
   "outputs": [
    {
     "data": {
      "text/plain": [
       "False"
      ]
     },
     "execution_count": 42,
     "metadata": {},
     "output_type": "execute_result"
    }
   ],
   "source": [
    "data_list['testBlocks'][7][26]['scramble'][0]"
   ]
  },
  {
   "cell_type": "code",
   "execution_count": 22,
   "metadata": {},
   "outputs": [
    {
     "data": {
      "text/plain": [
       "False"
      ]
     },
     "execution_count": 22,
     "metadata": {},
     "output_type": "execute_result"
    }
   ],
   "source": [
    "data_list['testBlocks'][0][10]['target']"
   ]
  },
  {
   "cell_type": "code",
   "execution_count": 44,
   "metadata": {},
   "outputs": [
    {
     "data": {
      "text/plain": [
       "[]"
      ]
     },
     "execution_count": 44,
     "metadata": {},
     "output_type": "execute_result"
    }
   ],
   "source": [
    "data_list['testBlocks'][7][26]['responses']"
   ]
  },
  {
   "cell_type": "code",
   "execution_count": 28,
   "metadata": {},
   "outputs": [
    {
     "data": {
      "text/plain": [
       "[{'Category': 'beach',\n",
       "  'ImageName': 'beaches_00504.jpg',\n",
       "  'invert': False,\n",
       "  'List': 'Bad',\n",
       "  'pspath': 'images\\\\beaches_00504_PS.png',\n",
       "  'Score': '3.13',\n",
       "  'path': 'images\\\\beaches_00504.jpg',\n",
       "  'ldpath': 'images\\\\beaches_00504_LD.png'}]"
      ]
     },
     "execution_count": 28,
     "metadata": {},
     "output_type": "execute_result"
    }
   ],
   "source": [
    "data_list['testBlocks'][0][10]['images']"
   ]
  },
  {
   "cell_type": "code",
   "execution_count": 30,
   "metadata": {},
   "outputs": [
    {
     "data": {
      "text/plain": [
       "'Bad'"
      ]
     },
     "execution_count": 30,
     "metadata": {},
     "output_type": "execute_result"
    }
   ],
   "source": [
    "data_list['testBlocks'][0][10]['images'][0]['Category']\n",
    "data_list['testBlocks'][0][10]['images'][0]['ImageName']\n",
    "data_list['testBlocks'][0][10]['images'][0]['invert']\n",
    "data_list['testBlocks'][0][10]['images'][0]['List']"
   ]
  },
  {
   "cell_type": "code",
   "execution_count": 36,
   "metadata": {},
   "outputs": [
    {
     "data": {
      "text/plain": [
       "1"
      ]
     },
     "execution_count": 36,
     "metadata": {},
     "output_type": "execute_result"
    }
   ],
   "source": [
    "len(data_list['testBlocks'][10][20]['images'])"
   ]
  },
  {
   "cell_type": "code",
   "execution_count": 52,
   "metadata": {},
   "outputs": [],
   "source": [
    "directory = './good_bad_responses'\n",
    "for filename in os.listdir(directory):\n",
    "    if filename.endswith(\".json\"):\n",
    "        path = os.path.join(directory, filename)\n",
    "        user = path.strip(\"./good_bad_responses/gbmatch.json\")\n",
    "        json_to_csv(path, user)\n",
    "    else:\n",
    "        continue"
   ]
  },
  {
   "cell_type": "code",
   "execution_count": 51,
   "metadata": {},
   "outputs": [],
   "source": [
    "def json_to_csv(path, user):\n",
    "    json_fp = open(path, \"r\",encoding='utf-8')\n",
    "    csv_fp = open('./good_bad_responses/'+user+\"_csv.csv\", \"w\",encoding='utf-8',newline='')\n",
    "\n",
    "    writer = csv.writer(csv_fp)\n",
    "    data_list = json.load(json_fp)\n",
    "    keys = ['scramble', 'target', 'response', 'image_category', 'image_name', 'image_invert', 'image_list']\n",
    "    writer.writerow(keys)\n",
    "    rval= []\n",
    "    for i in range(len(data_list['testBlocks'])):\n",
    "        for j in range(len(data_list['testBlocks'][0])):\n",
    "            data = []\n",
    "            data.append(data_list['testBlocks'][i][j]['scramble'][0])\n",
    "            data.append(data_list['testBlocks'][i][j]['target'])\n",
    "            if data_list['testBlocks'][i][j]['responses'] == []:\n",
    "                data.append('N/A')\n",
    "            else:\n",
    "                data.append(data_list['testBlocks'][i][j]['responses'][0])\n",
    "            data.append(data_list['testBlocks'][i][j]['images'][0]['Category'])\n",
    "            data.append(data_list['testBlocks'][i][j]['images'][0]['ImageName'])\n",
    "            data.append(data_list['testBlocks'][i][j]['images'][0]['invert'])\n",
    "            data.append(data_list['testBlocks'][i][j]['images'][0]['List'])\n",
    "            rval.append(data)\n",
    "    writer.writerows(rval)\n",
    "    json_fp.close()\n",
    "    csv_fp.close()"
   ]
  },
  {
   "cell_type": "code",
   "execution_count": 60,
   "metadata": {},
   "outputs": [],
   "source": [
    "def add_datamap(path):\n",
    "    json_fp = open(path, \"r\",encoding='utf-8')\n",
    "    data_list = json.load(json_fp)\n",
    "    for i in range(len(data_list['testBlocks'])):\n",
    "        for j in range(len(data_list['testBlocks'][0])):\n",
    "            if data_list['testBlocks'][i][j]['scramble'][0] == True:\n",
    "                continue\n",
    "            if data_list['testBlocks'][i][j]['responses'] == []:\n",
    "                continue\n",
    "            name = data_list['testBlocks'][i][j]['images'][0]['Category']\n",
    "            if name == 'city':\n",
    "                continue\n",
    "            inv = data_list['testBlocks'][i][j]['images'][0]['invert']\n",
    "            if inv == True:\n",
    "                if data_list['testBlocks'][i][j]['target']:\n",
    "                    datamap[name]['in'][0] += 1\n",
    "                else:\n",
    "                    print('hey')\n",
    "                    datamap[name]['in'][1] += 1\n",
    "            else:\n",
    "                if data_list['testBlocks'][i][j]['target']:\n",
    "                    datamap[name]['up'][0] += 1\n",
    "                else:\n",
    "                    datamap[name]['up'][1] += 1\n",
    "        "
   ]
  },
  {
   "cell_type": "code",
   "execution_count": 61,
   "metadata": {},
   "outputs": [],
   "source": [
    "directory = './good_bad_responses'\n",
    "datamap = {'beach':{'up':[0,0], 'in':[0,0]}, \n",
    "           'forest':{'up':[0,0], 'in':[0,0]},\n",
    "           'highway':{'up':[0,0], 'in':[0,0]},\n",
    "           'mountain':{'up':[0,0], 'in':[0,0]},\n",
    "           'office':{'up':[0,0], 'in':[0,0]}}\n",
    "for filename in os.listdir(directory):\n",
    "    if filename.endswith(\".json\"):\n",
    "        path = os.path.join(directory, filename)\n",
    "        add_datamap(path)"
   ]
  },
  {
   "cell_type": "code",
   "execution_count": 62,
   "metadata": {},
   "outputs": [
    {
     "data": {
      "text/plain": [
       "{'beach': {'up': [580, 0], 'in': [569, 0]},\n",
       " 'forest': {'up': [588, 0], 'in': [562, 0]},\n",
       " 'highway': {'up': [585, 0], 'in': [564, 0]},\n",
       " 'mountain': {'up': [538, 0], 'in': [612, 0]},\n",
       " 'office': {'up': [559, 0], 'in': [591, 0]}}"
      ]
     },
     "execution_count": 62,
     "metadata": {},
     "output_type": "execute_result"
    }
   ],
   "source": [
    "datamap"
   ]
  },
  {
   "cell_type": "code",
   "execution_count": 65,
   "metadata": {},
   "outputs": [],
   "source": [
    "for filename in os.listdir(directory):\n",
    "    if filename.endswith(\".json\"):\n",
    "        path = os.path.join(directory, filename)\n",
    "        json_fp = open(path, \"r\",encoding='utf-8')\n",
    "        data_list = json.load(json_fp)\n",
    "        for i in range(len(data_list['testBlocks'])):\n",
    "            for j in range(len(data_list['testBlocks'][0])):\n",
    "                if data_list['testBlocks'][i][j]['scramble'][0] == True:\n",
    "                    continue\n",
    "                #if data_list['testBlocks'][i][j]['responses'] == []:\n",
    "                 #   continue\n",
    "                \n",
    "                if data_list['testBlocks'][i][j]['target'] == False:\n",
    "                    print('something')"
   ]
  },
  {
   "cell_type": "code",
   "execution_count": null,
   "metadata": {},
   "outputs": [],
   "source": []
  }
 ],
 "metadata": {
  "kernelspec": {
   "display_name": "Python 3",
   "language": "python",
   "name": "python3"
  },
  "language_info": {
   "codemirror_mode": {
    "name": "ipython",
    "version": 3
   },
   "file_extension": ".py",
   "mimetype": "text/x-python",
   "name": "python",
   "nbconvert_exporter": "python",
   "pygments_lexer": "ipython3",
   "version": "3.7.4"
  }
 },
 "nbformat": 4,
 "nbformat_minor": 2
}
