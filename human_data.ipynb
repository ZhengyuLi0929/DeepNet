{
 "cells": [
  {
   "cell_type": "code",
   "execution_count": 47,
   "metadata": {},
   "outputs": [],
   "source": [
    "import numpy as np\n",
    "import pandas as pd\n",
    "import csv\n",
    "import json\n",
    "import os"
   ]
  },
  {
   "cell_type": "code",
   "execution_count": 46,
   "metadata": {},
   "outputs": [],
   "source": [
    "json_fp = open(\"good_bad_responses/gbmatch_20100208_160256.json\", \"r\",encoding='utf-8')\n",
    "csv_fp = open(\"word.csv\", \"w\",encoding='utf-8',newline='')\n",
    "\n",
    "writer = csv.writer(csv_fp)\n",
    "data_list = json.load(json_fp)\n",
    "keys = ['scramble', 'target', 'response', 'image_category', 'image_name', 'image_invert', 'image_list']\n",
    "writer.writerow(keys)\n",
    "rval= []\n",
    "for i in range(len(data_list['testBlocks'])):\n",
    "    for j in range(len(data_list['testBlocks'][0])):\n",
    "        data = []\n",
    "        data.append(data_list['testBlocks'][i][j]['scramble'][0])\n",
    "        data.append(data_list['testBlocks'][i][j]['target'])\n",
    "        if data_list['testBlocks'][i][j]['responses'] == []:\n",
    "            data.append('N/A')\n",
    "        else:\n",
    "            data.append(data_list['testBlocks'][i][j]['responses'][0])\n",
    "        data.append(data_list['testBlocks'][i][j]['images'][0]['Category'])\n",
    "        data.append(data_list['testBlocks'][i][j]['images'][0]['ImageName'])\n",
    "        data.append(data_list['testBlocks'][i][j]['images'][0]['invert'])\n",
    "        data.append(data_list['testBlocks'][i][j]['images'][0]['List'])\n",
    "        rval.append(data)\n",
    "writer.writerows(rval)\n",
    "json_fp.close()\n",
    "csv_fp.close()\n",
    "        \n",
    "\n"
   ]
  },
  {
   "cell_type": "code",
   "execution_count": 42,
   "metadata": {},
   "outputs": [
    {
     "data": {
      "text/plain": [
       "False"
      ]
     },
     "execution_count": 42,
     "metadata": {},
     "output_type": "execute_result"
    }
   ],
   "source": [
    "data_list['testBlocks'][7][26]['scramble'][0]"
   ]
  },
  {
   "cell_type": "code",
   "execution_count": 22,
   "metadata": {},
   "outputs": [
    {
     "data": {
      "text/plain": [
       "False"
      ]
     },
     "execution_count": 22,
     "metadata": {},
     "output_type": "execute_result"
    }
   ],
   "source": [
    "data_list['testBlocks'][0][10]['target']"
   ]
  },
  {
   "cell_type": "code",
   "execution_count": 44,
   "metadata": {},
   "outputs": [
    {
     "data": {
      "text/plain": [
       "[]"
      ]
     },
     "execution_count": 44,
     "metadata": {},
     "output_type": "execute_result"
    }
   ],
   "source": [
    "data_list['testBlocks'][7][26]['responses']"
   ]
  },
  {
   "cell_type": "code",
   "execution_count": 28,
   "metadata": {},
   "outputs": [
    {
     "data": {
      "text/plain": [
       "[{'Category': 'beach',\n",
       "  'ImageName': 'beaches_00504.jpg',\n",
       "  'invert': False,\n",
       "  'List': 'Bad',\n",
       "  'pspath': 'images\\\\beaches_00504_PS.png',\n",
       "  'Score': '3.13',\n",
       "  'path': 'images\\\\beaches_00504.jpg',\n",
       "  'ldpath': 'images\\\\beaches_00504_LD.png'}]"
      ]
     },
     "execution_count": 28,
     "metadata": {},
     "output_type": "execute_result"
    }
   ],
   "source": [
    "data_list['testBlocks'][0][10]['images']"
   ]
  },
  {
   "cell_type": "code",
   "execution_count": 30,
   "metadata": {},
   "outputs": [
    {
     "data": {
      "text/plain": [
       "'Bad'"
      ]
     },
     "execution_count": 30,
     "metadata": {},
     "output_type": "execute_result"
    }
   ],
   "source": [
    "data_list['testBlocks'][0][10]['images'][0]['Category']\n",
    "data_list['testBlocks'][0][10]['images'][0]['ImageName']\n",
    "data_list['testBlocks'][0][10]['images'][0]['invert']\n",
    "data_list['testBlocks'][0][10]['images'][0]['List']"
   ]
  },
  {
   "cell_type": "code",
   "execution_count": 36,
   "metadata": {},
   "outputs": [
    {
     "data": {
      "text/plain": [
       "1"
      ]
     },
     "execution_count": 36,
     "metadata": {},
     "output_type": "execute_result"
    }
   ],
   "source": [
    "len(data_list['testBlocks'][10][20]['images'])"
   ]
  },
  {
   "cell_type": "code",
   "execution_count": 52,
   "metadata": {},
   "outputs": [],
   "source": [
    "directory = './good_bad_responses'\n",
    "for filename in os.listdir(directory):\n",
    "    if filename.endswith(\".json\"):\n",
    "        path = os.path.join(directory, filename)\n",
    "        user = path.strip(\"./good_bad_responses/gbmatch.json\")\n",
    "        json_to_csv(path, user)\n",
    "    else:\n",
    "        continue"
   ]
  },
  {
   "cell_type": "code",
   "execution_count": 51,
   "metadata": {},
   "outputs": [],
   "source": [
    "def json_to_csv(path, user):\n",
    "    json_fp = open(path, \"r\",encoding='utf-8')\n",
    "    csv_fp = open('./good_bad_responses/'+user+\"_csv.csv\", \"w\",encoding='utf-8',newline='')\n",
    "\n",
    "    writer = csv.writer(csv_fp)\n",
    "    data_list = json.load(json_fp)\n",
    "    keys = ['scramble', 'target', 'response', 'image_category', 'image_name', 'image_invert', 'image_list']\n",
    "    writer.writerow(keys)\n",
    "    rval= []\n",
    "    for i in range(len(data_list['testBlocks'])):\n",
    "        for j in range(len(data_list['testBlocks'][0])):\n",
    "            data = []\n",
    "            data.append(data_list['testBlocks'][i][j]['scramble'][0])\n",
    "            data.append(data_list['testBlocks'][i][j]['target'])\n",
    "            if data_list['testBlocks'][i][j]['responses'] == []:\n",
    "                data.append('N/A')\n",
    "            else:\n",
    "                data.append(data_list['testBlocks'][i][j]['responses'][0])\n",
    "            data.append(data_list['testBlocks'][i][j]['images'][0]['Category'])\n",
    "            data.append(data_list['testBlocks'][i][j]['images'][0]['ImageName'])\n",
    "            data.append(data_list['testBlocks'][i][j]['images'][0]['invert'])\n",
    "            data.append(data_list['testBlocks'][i][j]['images'][0]['List'])\n",
    "            rval.append(data)\n",
    "    writer.writerows(rval)\n",
    "    json_fp.close()\n",
    "    csv_fp.close()"
   ]
  },
  {
   "cell_type": "code",
   "execution_count": null,
   "metadata": {},
   "outputs": [],
   "source": []
  }
 ],
 "metadata": {
  "kernelspec": {
   "display_name": "Python 3",
   "language": "python",
   "name": "python3"
  },
  "language_info": {
   "codemirror_mode": {
    "name": "ipython",
    "version": 3
   },
   "file_extension": ".py",
   "mimetype": "text/x-python",
   "name": "python",
   "nbconvert_exporter": "python",
   "pygments_lexer": "ipython3",
   "version": "3.7.4"
  }
 },
 "nbformat": 4,
 "nbformat_minor": 2
}
