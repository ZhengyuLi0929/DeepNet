{
 "cells": [
  {
   "cell_type": "code",
   "execution_count": 1,
   "metadata": {},
   "outputs": [],
   "source": [
    "from pycocotools.coco import COCO\n",
    "import glob, os, sys, zipfile\n",
    "import urllib.request\n",
    "import shutil\n",
    "import numpy as np\n",
    "import skimage.io as io\n",
    "import json\n",
    "import cv2\n",
    "os.chdir(\"./processed\")\n",
    "json_file='../annotations/instances_train2017.json'\n",
    "data=json.load(open(json_file,'r'))\n",
    "data_2 = data[\"annotations\"]"
   ]
  },
  {
   "cell_type": "code",
   "execution_count": 13,
   "metadata": {},
   "outputs": [],
   "source": [
    "import math\n",
    "bg = cv2.imread('../mask.jpg')\n",
    "for file in glob.glob(\"../all_images/*.jpg\"):\n",
    "    # read file\n",
    "    img = cv2.imread(file)\n",
    "    ID = int(file.strip(\"/all_images/.jpg\"))\n",
    "    \n",
    "    # read as mask\n",
    "    for item in data_2:\n",
    "        if item[\"image_id\"] == ID:\n",
    "            bigarr = np.array(item[\"segmentation\"])\n",
    "            bigarr = np.array(bigarr[0])\n",
    "            pts = bigarr.reshape(-1,1,2).astype(np.int32)\n",
    "            mask = np.zeros(img.shape[:2], np.uint8)\n",
    "            cv2.drawContours(mask, [pts], -1, (255, 255, 255), -1)\n",
    "            cv2.imwrite(\"mask_1.png\", mask)\n",
    "            #cv2.polylines(img, [pts], True, (0, 255, 255))\n",
    "            break\n",
    "    \n",
    "    # possible resizes\n",
    "    rows, cols, channels = bg.shape\n",
    "    r1, c1, ch1 = img.shape\n",
    "    rat_r = 0\n",
    "    rat_c = 0\n",
    "    if r1 > rows:\n",
    "        rat_r = float(r1 / rows)\n",
    "    if c1 > cols:\n",
    "        rat_c = float(c1 / cols)\n",
    "    ratio = max(rat_r, rat_c)\n",
    "    \n",
    "    # actual resize\n",
    "    masked = cv2.imread('mask_1.png')\n",
    "    new = cv2.imread('../mask.jpg')\n",
    "    if ratio != 0:\n",
    "        img = cv2.resize(img, (math.floor(r1/ratio), math.floor(c1/ratio)))\n",
    "        masked = cv2.resize(masked, (math.floor(r1/ratio), math.floor(c1/ratio)))\n",
    "    \n",
    "    mrows, mcols, mchs = masked.shape\n",
    "    # read pixel\n",
    "    for i in range(rows):\n",
    "        for j in range(cols):\n",
    "            if i >= mrows or j >= mcols:\n",
    "                new[i,j,m] = bg[i,j,m]\n",
    "            elif masked[i,j].all() == 0:\n",
    "                for m in range(channels):\n",
    "                    new[i,j,m] = bg[i,j,m]\n",
    "            else:\n",
    "                for m in range(channels):\n",
    "                    new[i,j,m] = img[i,j,m]\n",
    "                    \n",
    "    # write image\n",
    "    cv2.imwrite(\"{}_final.png\".format(ID),new)"
   ]
  },
  {
   "cell_type": "code",
   "execution_count": null,
   "metadata": {},
   "outputs": [],
   "source": []
  }
 ],
 "metadata": {
  "kernelspec": {
   "display_name": "Python 3",
   "language": "python",
   "name": "python3"
  },
  "language_info": {
   "codemirror_mode": {
    "name": "ipython",
    "version": 3
   },
   "file_extension": ".py",
   "mimetype": "text/x-python",
   "name": "python",
   "nbconvert_exporter": "python",
   "pygments_lexer": "ipython3",
   "version": "3.7.4"
  }
 },
 "nbformat": 4,
 "nbformat_minor": 2
}
