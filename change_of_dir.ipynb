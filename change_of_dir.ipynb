{
 "cells": [
  {
   "cell_type": "code",
   "execution_count": 1,
   "metadata": {},
   "outputs": [],
   "source": [
    "import glob\n",
    "import shutil\n",
    "import os"
   ]
  },
  {
   "cell_type": "code",
   "execution_count": 5,
   "metadata": {},
   "outputs": [],
   "source": [
    "src_dir = \"./processed\"\n",
    "dst_dir = \"./images_with_dir\"                                                                                                        \n",
    "subdirs = [x[0] for x in os.walk(dst_dir)]                                                                            \n",
    "for subdir in subdirs:                                                                                            \n",
    "    files = os.walk(subdir).__next__()[2]                                                                             \n",
    "    if (len(files) > 0):                                                                                          \n",
    "        for file in files:\n",
    "            ID = file.strip(\".jpg\")\n",
    "            for pngfile in glob.iglob(os.path.join(src_dir, \"{}_final.png\".format(ID))):\n",
    "                shutil.copy(pngfile, subdir)"
   ]
  },
  {
   "cell_type": "code",
   "execution_count": null,
   "metadata": {},
   "outputs": [],
   "source": []
  }
 ],
 "metadata": {
  "kernelspec": {
   "display_name": "Python 3",
   "language": "python",
   "name": "python3"
  },
  "language_info": {
   "codemirror_mode": {
    "name": "ipython",
    "version": 3
   },
   "file_extension": ".py",
   "mimetype": "text/x-python",
   "name": "python",
   "nbconvert_exporter": "python",
   "pygments_lexer": "ipython3",
   "version": "3.7.4"
  }
 },
 "nbformat": 4,
 "nbformat_minor": 2
}
